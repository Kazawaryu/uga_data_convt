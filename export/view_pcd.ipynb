{
 "cells": [
  {
   "cell_type": "code",
   "execution_count": 8,
   "id": "5baefee6",
   "metadata": {},
   "outputs": [],
   "source": [
    "import open3d as o3d\n",
    "import os\n",
    "\n",
    "pcd_dir = '/mnt/dataset/Day2_Athens/a4_e2w/lidar'\n",
    "files = os.listdir(pcd_dir)\n",
    "files.sort()\n",
    "\n",
    "\n",
    "idx = 24\n",
    "\n",
    "pcd_path = os.path.join(pcd_dir, files[idx])\n",
    "\n",
    "pcd = o3d.io.read_point_cloud(pcd_path)\n",
    "o3d.visualization.draw_geometries([pcd])\n"
   ]
  },
  {
   "cell_type": "code",
   "execution_count": null,
   "id": "24a6683e",
   "metadata": {},
   "outputs": [
    {
     "name": "stdout",
     "output_type": "stream",
     "text": [
      "Jupyter environment detected. Enabling Open3D WebVisualizer.\n",
      "[Open3D INFO] WebRTC GUI backend enabled.\n",
      "[Open3D INFO] WebRTCWindowSystem: HTTP handshake server disabled.\n"
     ]
    },
    {
     "ename": "KeyboardInterrupt",
     "evalue": "",
     "output_type": "error",
     "traceback": [
      "\u001b[0;31m---------------------------------------------------------------------------\u001b[0m",
      "\u001b[0;31mKeyboardInterrupt\u001b[0m                         Traceback (most recent call last)",
      "Cell \u001b[0;32mIn[1], line 24\u001b[0m\n\u001b[1;32m     22\u001b[0m     vis\u001b[38;5;241m.\u001b[39mpoll_events()\n\u001b[1;32m     23\u001b[0m     vis\u001b[38;5;241m.\u001b[39mupdate_renderer()\n\u001b[0;32m---> 24\u001b[0m     \u001b[43mtime\u001b[49m\u001b[38;5;241;43m.\u001b[39;49m\u001b[43msleep\u001b[49m\u001b[43m(\u001b[49m\u001b[38;5;241;43m3\u001b[39;49m\u001b[43m)\u001b[49m\n\u001b[1;32m     26\u001b[0m vis\u001b[38;5;241m.\u001b[39mdestroy_window()\n",
      "\u001b[0;31mKeyboardInterrupt\u001b[0m: "
     ]
    },
    {
     "ename": "",
     "evalue": "",
     "output_type": "error",
     "traceback": [
      "\u001b[1;31mThe Kernel crashed while executing code in the current cell or a previous cell. \n",
      "\u001b[1;31mPlease review the code in the cell(s) to identify a possible cause of the failure. \n",
      "\u001b[1;31mClick <a href='https://aka.ms/vscodeJupyterKernelCrash'>here</a> for more info. \n",
      "\u001b[1;31mView Jupyter <a href='command:jupyter.viewOutput'>log</a> for further details."
     ]
    }
   ],
   "source": [
    "\n",
    "import open3d as o3d\n",
    "import os\n",
    "\n",
    "import time\n",
    "\n",
    "pcd_dir = '/mnt/dataset/Day2_Athens/a4_e2w/lidar'\n",
    "files = os.listdir(pcd_dir)\n",
    "files.sort()\n",
    "\n",
    "vis = o3d.visualization.Visualizer()\n",
    "vis.create_window()\n",
    "pcd = o3d.io.read_point_cloud(os.path.join(pcd_dir, files[0]))\n",
    "vis.add_geometry(pcd)\n",
    "\n",
    "for filename in files:\n",
    "    pcd_path = os.path.join(pcd_dir, filename)\n",
    "    pcd.points = o3d.io.read_point_cloud(pcd_path).points\n",
    "    vis.update_geometry(pcd)\n",
    "    vis.poll_events()\n",
    "    vis.update_renderer()\n",
    "    time.sleep(3)\n",
    "\n",
    "vis.destroy_window()\n"
   ]
  }
 ],
 "metadata": {
  "kernelspec": {
   "display_name": "ros38",
   "language": "python",
   "name": "python3"
  },
  "language_info": {
   "codemirror_mode": {
    "name": "ipython",
    "version": 3
   },
   "file_extension": ".py",
   "mimetype": "text/x-python",
   "name": "python",
   "nbconvert_exporter": "python",
   "pygments_lexer": "ipython3",
   "version": "3.8.20"
  }
 },
 "nbformat": 4,
 "nbformat_minor": 5
}
